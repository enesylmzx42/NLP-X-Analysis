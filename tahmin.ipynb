{
 "cells": [
  {
   "cell_type": "code",
   "execution_count": 45,
   "id": "669159de",
   "metadata": {},
   "outputs": [
    {
     "data": {
      "text/html": [
       "<div>\n",
       "<style scoped>\n",
       "    .dataframe tbody tr th:only-of-type {\n",
       "        vertical-align: middle;\n",
       "    }\n",
       "\n",
       "    .dataframe tbody tr th {\n",
       "        vertical-align: top;\n",
       "    }\n",
       "\n",
       "    .dataframe thead th {\n",
       "        text-align: right;\n",
       "    }\n",
       "</style>\n",
       "<table border=\"1\" class=\"dataframe\">\n",
       "  <thead>\n",
       "    <tr style=\"text-align: right;\">\n",
       "      <th></th>\n",
       "      <th>username</th>\n",
       "      <th>tweet</th>\n",
       "    </tr>\n",
       "  </thead>\n",
       "  <tbody>\n",
       "    <tr>\n",
       "      <th>0</th>\n",
       "      <td>acunilicali</td>\n",
       "      <td>İşte #Survivor2023’ün Gönüllüleri.. Tüm yarışm...</td>\n",
       "    </tr>\n",
       "    <tr>\n",
       "      <th>1</th>\n",
       "      <td>acunilicali</td>\n",
       "      <td>İşte #Survivor2023’ün Influencerları.. Tüm yar...</td>\n",
       "    </tr>\n",
       "    <tr>\n",
       "      <th>2</th>\n",
       "      <td>acunilicali</td>\n",
       "      <td>İşte #Survivor2023’ün Ünlüleri.. Tüm yarışmacı...</td>\n",
       "    </tr>\n",
       "    <tr>\n",
       "      <th>3</th>\n",
       "      <td>acunilicali</td>\n",
       "      <td>#OSesTürkiye Yılbaşı Özel programı bu akşam sa...</td>\n",
       "    </tr>\n",
       "    <tr>\n",
       "      <th>4</th>\n",
       "      <td>acunilicali</td>\n",
       "      <td>#SıfırıncıGün ilk bölümüyle birazdan #TV8’de b...</td>\n",
       "    </tr>\n",
       "  </tbody>\n",
       "</table>\n",
       "</div>"
      ],
      "text/plain": [
       "      username                                              tweet\n",
       "0  acunilicali  İşte #Survivor2023’ün Gönüllüleri.. Tüm yarışm...\n",
       "1  acunilicali  İşte #Survivor2023’ün Influencerları.. Tüm yar...\n",
       "2  acunilicali  İşte #Survivor2023’ün Ünlüleri.. Tüm yarışmacı...\n",
       "3  acunilicali  #OSesTürkiye Yılbaşı Özel programı bu akşam sa...\n",
       "4  acunilicali  #SıfırıncıGün ilk bölümüyle birazdan #TV8’de b..."
      ]
     },
     "execution_count": 45,
     "metadata": {},
     "output_type": "execute_result"
    }
   ],
   "source": [
    "import pandas as pd\n",
    "import numpy as np\n",
    "import string\n",
    "import re\n",
    "from sklearn.naive_bayes import MultinomialNB\n",
    "from sklearn.tree import DecisionTreeClassifier\n",
    "from sklearn.feature_extraction.text import TfidfVectorizer\n",
    "from sklearn.model_selection import train_test_split\n",
    "from sklearn.metrics import f1_score\n",
    "\n",
    "df = pd.read_csv(\"temizlenmemis_tweets.csv\")\n",
    "df = df.drop([\"Unnamed: 0\"], axis=1)\n",
    "df.head()"
   ]
  },
  {
   "cell_type": "code",
   "execution_count": 46,
   "id": "0e26e275",
   "metadata": {},
   "outputs": [],
   "source": [
    "# veri içerisindeki bazı anlamsız kelimeler\n",
    "stop_words = sorted(['škoda','ɐpuıʞɐʎ','ɐɯnɔ','ɹıpɹɐʌ','ɹıq','ɹǝƃuɐɹʇs','ɹǝɥ','ˇωˇ','έλληνα','έχω','ήρθες','αδερφέ','αμφιβολία','αυτή','γνωρίζω','δεν','δυο','είμαι','είναι','εμάς','ενθουσιάζουν','ζήσουμε','θα','κάνουν','και','καλώς','καμία','κοινά','μαζί','μας','με','μεγάλα','μιας','μου','οι','οικογένειά','ομάδα','ομάδες','παίζουν','παιχνίδια','παράδειγμα','πιστεύεις','πολλά','πολύ','που','πράγματα','πρόθυμα','πόλη','σε','στην','τα','την','το','των','υπέροχα','φιλίας','χαρούμενο','χαρούμενος','χωρών','όμορφης','όνειρα','ότι','ⁿᵉᵈᵉⁿ','くへ','ノspoiler','ヽつ','내일','단독공개','오후','𝓐𝓜𝓟𝓘','𝓑𝓲𝔃','𝓨𝓞𝓝','𝓲𝔃','𝓸𝓵𝓪𝓬𝓪𝓰'])"
   ]
  },
  {
   "cell_type": "code",
   "execution_count": 48,
   "id": "4ed32178",
   "metadata": {},
   "outputs": [
    {
     "data": {
      "text/html": [
       "<div>\n",
       "<style scoped>\n",
       "    .dataframe tbody tr th:only-of-type {\n",
       "        vertical-align: middle;\n",
       "    }\n",
       "\n",
       "    .dataframe tbody tr th {\n",
       "        vertical-align: top;\n",
       "    }\n",
       "\n",
       "    .dataframe thead th {\n",
       "        text-align: right;\n",
       "    }\n",
       "</style>\n",
       "<table border=\"1\" class=\"dataframe\">\n",
       "  <thead>\n",
       "    <tr style=\"text-align: right;\">\n",
       "      <th></th>\n",
       "      <th>username</th>\n",
       "      <th>tweet</th>\n",
       "      <th>clean</th>\n",
       "    </tr>\n",
       "  </thead>\n",
       "  <tbody>\n",
       "    <tr>\n",
       "      <th>0</th>\n",
       "      <td>acunilicali</td>\n",
       "      <td>İşte #Survivor2023’ün Gönüllüleri.. Tüm yarışm...</td>\n",
       "      <td>i̇şte survivor’ün gönüllüleri tüm yarışmacılar...</td>\n",
       "    </tr>\n",
       "    <tr>\n",
       "      <th>1</th>\n",
       "      <td>acunilicali</td>\n",
       "      <td>İşte #Survivor2023’ün Influencerları.. Tüm yar...</td>\n",
       "      <td>i̇şte survivor’ün influencerları tüm yarışmacı...</td>\n",
       "    </tr>\n",
       "    <tr>\n",
       "      <th>2</th>\n",
       "      <td>acunilicali</td>\n",
       "      <td>İşte #Survivor2023’ün Ünlüleri.. Tüm yarışmacı...</td>\n",
       "      <td>i̇şte survivor’ün ünlüleri tüm yarışmacılarımı...</td>\n",
       "    </tr>\n",
       "    <tr>\n",
       "      <th>3</th>\n",
       "      <td>acunilicali</td>\n",
       "      <td>#OSesTürkiye Yılbaşı Özel programı bu akşam sa...</td>\n",
       "      <td>osestürkiye yılbaşı özel programı bu akşam saa...</td>\n",
       "    </tr>\n",
       "    <tr>\n",
       "      <th>4</th>\n",
       "      <td>acunilicali</td>\n",
       "      <td>#SıfırıncıGün ilk bölümüyle birazdan #TV8’de b...</td>\n",
       "      <td>sıfırıncıgün ilk bölümüyle birazdan tv’de başl...</td>\n",
       "    </tr>\n",
       "    <tr>\n",
       "      <th>...</th>\n",
       "      <td>...</td>\n",
       "      <td>...</td>\n",
       "      <td>...</td>\n",
       "    </tr>\n",
       "    <tr>\n",
       "      <th>11460</th>\n",
       "      <td>netflixturkiye</td>\n",
       "      <td>@mst553455 Disenchantment’ı aç, Elfo keyfini d...</td>\n",
       "      <td>mst disenchantment’ı aç elfo keyfini düzeltece...</td>\n",
       "    </tr>\n",
       "    <tr>\n",
       "      <th>11461</th>\n",
       "      <td>netflixturkiye</td>\n",
       "      <td>@AlkisResit The Midnight Sky izlendi mi? 👀</td>\n",
       "      <td>alkisresit the midnight sky izlendi mi 👀</td>\n",
       "    </tr>\n",
       "    <tr>\n",
       "      <th>11462</th>\n",
       "      <td>netflixturkiye</td>\n",
       "      <td>@hsyn11ozcn Kesinlikle Bodyguard</td>\n",
       "      <td>hsynozcn kesinlikle bodyguard</td>\n",
       "    </tr>\n",
       "    <tr>\n",
       "      <th>11463</th>\n",
       "      <td>netflixturkiye</td>\n",
       "      <td>Bugün ne izleyeyim yazıp cevap alamayanlar bu ...</td>\n",
       "      <td>bugün ne izleyeyim yazıp cevap alamayanlar bu ...</td>\n",
       "    </tr>\n",
       "    <tr>\n",
       "      <th>11464</th>\n",
       "      <td>netflixturkiye</td>\n",
       "      <td>Başkalarının kış kombini / Benim kış kombinim ...</td>\n",
       "      <td>başkalarının kış kombini  benim kış kombinim h...</td>\n",
       "    </tr>\n",
       "  </tbody>\n",
       "</table>\n",
       "<p>11465 rows × 3 columns</p>\n",
       "</div>"
      ],
      "text/plain": [
       "             username                                              tweet  \\\n",
       "0         acunilicali  İşte #Survivor2023’ün Gönüllüleri.. Tüm yarışm...   \n",
       "1         acunilicali  İşte #Survivor2023’ün Influencerları.. Tüm yar...   \n",
       "2         acunilicali  İşte #Survivor2023’ün Ünlüleri.. Tüm yarışmacı...   \n",
       "3         acunilicali  #OSesTürkiye Yılbaşı Özel programı bu akşam sa...   \n",
       "4         acunilicali  #SıfırıncıGün ilk bölümüyle birazdan #TV8’de b...   \n",
       "...               ...                                                ...   \n",
       "11460  netflixturkiye  @mst553455 Disenchantment’ı aç, Elfo keyfini d...   \n",
       "11461  netflixturkiye         @AlkisResit The Midnight Sky izlendi mi? 👀   \n",
       "11462  netflixturkiye                   @hsyn11ozcn Kesinlikle Bodyguard   \n",
       "11463  netflixturkiye  Bugün ne izleyeyim yazıp cevap alamayanlar bu ...   \n",
       "11464  netflixturkiye  Başkalarının kış kombini / Benim kış kombinim ...   \n",
       "\n",
       "                                                   clean  \n",
       "0      i̇şte survivor’ün gönüllüleri tüm yarışmacılar...  \n",
       "1      i̇şte survivor’ün influencerları tüm yarışmacı...  \n",
       "2      i̇şte survivor’ün ünlüleri tüm yarışmacılarımı...  \n",
       "3      osestürkiye yılbaşı özel programı bu akşam saa...  \n",
       "4      sıfırıncıgün ilk bölümüyle birazdan tv’de başl...  \n",
       "...                                                  ...  \n",
       "11460  mst disenchantment’ı aç elfo keyfini düzeltece...  \n",
       "11461           alkisresit the midnight sky izlendi mi 👀  \n",
       "11462                      hsynozcn kesinlikle bodyguard  \n",
       "11463  bugün ne izleyeyim yazıp cevap alamayanlar bu ...  \n",
       "11464  başkalarının kış kombini  benim kış kombinim h...  \n",
       "\n",
       "[11465 rows x 3 columns]"
      ]
     },
     "execution_count": 48,
     "metadata": {},
     "output_type": "execute_result"
    }
   ],
   "source": [
    "def clean(row):\n",
    "    satirlar = row[\"tweet\"].replace(\"\\n\", \" \")\n",
    "    satirlar = re.sub(\"[0-9]+\", \"\", satirlar) # veri içerisindeki sayılar çıkarılıyor\n",
    "    satirlar = [t for t in satirlar.split()if t not in stop_words] # veri içerisindeki anlamsız kelimeler çıkarılıyor\n",
    "    return \" \".join(satirlar).lower().translate(str.maketrans(\"\", \"\", string.punctuation))\n",
    "\n",
    "df[\"clean\"] = df.apply(lambda row: clean(row), axis = 1)\n",
    "df"
   ]
  },
  {
   "cell_type": "code",
   "execution_count": 49,
   "id": "a3c15f6c",
   "metadata": {},
   "outputs": [],
   "source": [
    "users = [\"acunilicali\", \"RasimOzan_K\", \"webtekno\", \"netflixturkiye\"]"
   ]
  },
  {
   "cell_type": "code",
   "execution_count": 50,
   "id": "1430ea37",
   "metadata": {},
   "outputs": [
    {
     "data": {
      "text/html": [
       "<div>\n",
       "<style scoped>\n",
       "    .dataframe tbody tr th:only-of-type {\n",
       "        vertical-align: middle;\n",
       "    }\n",
       "\n",
       "    .dataframe tbody tr th {\n",
       "        vertical-align: top;\n",
       "    }\n",
       "\n",
       "    .dataframe thead th {\n",
       "        text-align: right;\n",
       "    }\n",
       "</style>\n",
       "<table border=\"1\" class=\"dataframe\">\n",
       "  <thead>\n",
       "    <tr style=\"text-align: right;\">\n",
       "      <th></th>\n",
       "      <th>username</th>\n",
       "      <th>tweet</th>\n",
       "      <th>clean</th>\n",
       "      <th>labels</th>\n",
       "    </tr>\n",
       "  </thead>\n",
       "  <tbody>\n",
       "    <tr>\n",
       "      <th>0</th>\n",
       "      <td>acunilicali</td>\n",
       "      <td>İşte #Survivor2023’ün Gönüllüleri.. Tüm yarışm...</td>\n",
       "      <td>i̇şte survivor’ün gönüllüleri tüm yarışmacılar...</td>\n",
       "      <td>0</td>\n",
       "    </tr>\n",
       "    <tr>\n",
       "      <th>1</th>\n",
       "      <td>acunilicali</td>\n",
       "      <td>İşte #Survivor2023’ün Influencerları.. Tüm yar...</td>\n",
       "      <td>i̇şte survivor’ün influencerları tüm yarışmacı...</td>\n",
       "      <td>0</td>\n",
       "    </tr>\n",
       "    <tr>\n",
       "      <th>2</th>\n",
       "      <td>acunilicali</td>\n",
       "      <td>İşte #Survivor2023’ün Ünlüleri.. Tüm yarışmacı...</td>\n",
       "      <td>i̇şte survivor’ün ünlüleri tüm yarışmacılarımı...</td>\n",
       "      <td>0</td>\n",
       "    </tr>\n",
       "    <tr>\n",
       "      <th>3</th>\n",
       "      <td>acunilicali</td>\n",
       "      <td>#OSesTürkiye Yılbaşı Özel programı bu akşam sa...</td>\n",
       "      <td>osestürkiye yılbaşı özel programı bu akşam saa...</td>\n",
       "      <td>0</td>\n",
       "    </tr>\n",
       "    <tr>\n",
       "      <th>4</th>\n",
       "      <td>acunilicali</td>\n",
       "      <td>#SıfırıncıGün ilk bölümüyle birazdan #TV8’de b...</td>\n",
       "      <td>sıfırıncıgün ilk bölümüyle birazdan tv’de başl...</td>\n",
       "      <td>0</td>\n",
       "    </tr>\n",
       "    <tr>\n",
       "      <th>...</th>\n",
       "      <td>...</td>\n",
       "      <td>...</td>\n",
       "      <td>...</td>\n",
       "      <td>...</td>\n",
       "    </tr>\n",
       "    <tr>\n",
       "      <th>11460</th>\n",
       "      <td>netflixturkiye</td>\n",
       "      <td>@mst553455 Disenchantment’ı aç, Elfo keyfini d...</td>\n",
       "      <td>mst disenchantment’ı aç elfo keyfini düzeltece...</td>\n",
       "      <td>3</td>\n",
       "    </tr>\n",
       "    <tr>\n",
       "      <th>11461</th>\n",
       "      <td>netflixturkiye</td>\n",
       "      <td>@AlkisResit The Midnight Sky izlendi mi? 👀</td>\n",
       "      <td>alkisresit the midnight sky izlendi mi 👀</td>\n",
       "      <td>3</td>\n",
       "    </tr>\n",
       "    <tr>\n",
       "      <th>11462</th>\n",
       "      <td>netflixturkiye</td>\n",
       "      <td>@hsyn11ozcn Kesinlikle Bodyguard</td>\n",
       "      <td>hsynozcn kesinlikle bodyguard</td>\n",
       "      <td>3</td>\n",
       "    </tr>\n",
       "    <tr>\n",
       "      <th>11463</th>\n",
       "      <td>netflixturkiye</td>\n",
       "      <td>Bugün ne izleyeyim yazıp cevap alamayanlar bu ...</td>\n",
       "      <td>bugün ne izleyeyim yazıp cevap alamayanlar bu ...</td>\n",
       "      <td>3</td>\n",
       "    </tr>\n",
       "    <tr>\n",
       "      <th>11464</th>\n",
       "      <td>netflixturkiye</td>\n",
       "      <td>Başkalarının kış kombini / Benim kış kombinim ...</td>\n",
       "      <td>başkalarının kış kombini  benim kış kombinim h...</td>\n",
       "      <td>3</td>\n",
       "    </tr>\n",
       "  </tbody>\n",
       "</table>\n",
       "<p>11465 rows × 4 columns</p>\n",
       "</div>"
      ],
      "text/plain": [
       "             username                                              tweet  \\\n",
       "0         acunilicali  İşte #Survivor2023’ün Gönüllüleri.. Tüm yarışm...   \n",
       "1         acunilicali  İşte #Survivor2023’ün Influencerları.. Tüm yar...   \n",
       "2         acunilicali  İşte #Survivor2023’ün Ünlüleri.. Tüm yarışmacı...   \n",
       "3         acunilicali  #OSesTürkiye Yılbaşı Özel programı bu akşam sa...   \n",
       "4         acunilicali  #SıfırıncıGün ilk bölümüyle birazdan #TV8’de b...   \n",
       "...               ...                                                ...   \n",
       "11460  netflixturkiye  @mst553455 Disenchantment’ı aç, Elfo keyfini d...   \n",
       "11461  netflixturkiye         @AlkisResit The Midnight Sky izlendi mi? 👀   \n",
       "11462  netflixturkiye                   @hsyn11ozcn Kesinlikle Bodyguard   \n",
       "11463  netflixturkiye  Bugün ne izleyeyim yazıp cevap alamayanlar bu ...   \n",
       "11464  netflixturkiye  Başkalarının kış kombini / Benim kış kombinim ...   \n",
       "\n",
       "                                                   clean  labels  \n",
       "0      i̇şte survivor’ün gönüllüleri tüm yarışmacılar...       0  \n",
       "1      i̇şte survivor’ün influencerları tüm yarışmacı...       0  \n",
       "2      i̇şte survivor’ün ünlüleri tüm yarışmacılarımı...       0  \n",
       "3      osestürkiye yılbaşı özel programı bu akşam saa...       0  \n",
       "4      sıfırıncıgün ilk bölümüyle birazdan tv’de başl...       0  \n",
       "...                                                  ...     ...  \n",
       "11460  mst disenchantment’ı aç elfo keyfini düzeltece...       3  \n",
       "11461           alkisresit the midnight sky izlendi mi 👀       3  \n",
       "11462                      hsynozcn kesinlikle bodyguard       3  \n",
       "11463  bugün ne izleyeyim yazıp cevap alamayanlar bu ...       3  \n",
       "11464  başkalarının kış kombini  benim kış kombinim h...       3  \n",
       "\n",
       "[11465 rows x 4 columns]"
      ]
     },
     "execution_count": 50,
     "metadata": {},
     "output_type": "execute_result"
    }
   ],
   "source": [
    "def etiketle(row):\n",
    "    if row[\"username\"] == users[0]:\n",
    "        return 0 \n",
    "    elif row[\"username\"] == users[1]:\n",
    "        return 1\n",
    "    elif row[\"username\"] == users[2]:\n",
    "        return 2\n",
    "    return 3\n",
    "\n",
    "df[\"labels\"] = df.apply(lambda row:  etiketle(row), axis=1)\n",
    "df"
   ]
  },
  {
   "cell_type": "code",
   "execution_count": 51,
   "id": "f0f5cf32",
   "metadata": {},
   "outputs": [],
   "source": [
    "X = df.clean.to_numpy()\n",
    "y = df.labels.to_numpy()"
   ]
  },
  {
   "cell_type": "code",
   "execution_count": 52,
   "id": "9211e7c7",
   "metadata": {},
   "outputs": [],
   "source": [
    "X_train, X_test, y_train, y_test = train_test_split(\n",
    "    X, y, test_size=0.2, random_state=42)"
   ]
  },
  {
   "cell_type": "code",
   "execution_count": 53,
   "id": "74fb7c56",
   "metadata": {},
   "outputs": [],
   "source": [
    "vectorizer = TfidfVectorizer()\n",
    "\n",
    "X_train = vectorizer.fit_transform(X_train)\n",
    "X_test = vectorizer.transform(X_test)"
   ]
  },
  {
   "cell_type": "code",
   "execution_count": 54,
   "id": "2de18ebd",
   "metadata": {},
   "outputs": [
    {
     "data": {
      "text/plain": [
       "MultinomialNB()"
      ]
     },
     "execution_count": 54,
     "metadata": {},
     "output_type": "execute_result"
    }
   ],
   "source": [
    "model_NB = MultinomialNB()\n",
    "model_NB.fit(X_train, y_train)"
   ]
  },
  {
   "cell_type": "code",
   "execution_count": 56,
   "id": "57c6092a",
   "metadata": {},
   "outputs": [
    {
     "name": "stdout",
     "output_type": "stream",
     "text": [
      "NB train accuracy: 0.9604230266027038\n",
      "NB test accuracy: 0.8656781508940253\n"
     ]
    }
   ],
   "source": [
    "print(\"NB train accuracy:\", model_NB.score(X_train, y_train))\n",
    "print(\"NB test accuracy:\", model_NB.score(X_test, y_test))\n",
    "\n",
    "predictions_train = model_NB.predict(X_train)\n",
    "\n",
    "predictions_test = model_NB.predict(X_test)"
   ]
  },
  {
   "cell_type": "code",
   "execution_count": 57,
   "id": "1382c9d3",
   "metadata": {},
   "outputs": [
    {
     "data": {
      "text/plain": [
       "DecisionTreeClassifier()"
      ]
     },
     "execution_count": 57,
     "metadata": {},
     "output_type": "execute_result"
    }
   ],
   "source": [
    "model_DT = DecisionTreeClassifier()\n",
    "model_DT.fit(X_train, y_train)"
   ]
  },
  {
   "cell_type": "code",
   "execution_count": 58,
   "id": "407301b0",
   "metadata": {},
   "outputs": [
    {
     "name": "stdout",
     "output_type": "stream",
     "text": [
      "DT train accuracy: 0.9997819450501526\n",
      "DT test accuracy: 0.688181421718273\n"
     ]
    }
   ],
   "source": [
    "print(\"DT train accuracy:\", model_DT.score(X_train, y_train))\n",
    "print(\"DT test accuracy:\", model_DT.score(X_test, y_test))\n",
    "\n",
    "predictions_train = model_DT.predict(X_train)\n",
    "\n",
    "predictions_test = model_DT.predict(X_test)"
   ]
  },
  {
   "cell_type": "code",
   "execution_count": 59,
   "id": "93cf945c",
   "metadata": {},
   "outputs": [
    {
     "name": "stdout",
     "output_type": "stream",
     "text": [
      "NB: [3]\n",
      "acun ılıcalı: %0.56\n",
      "Rasim Ozan Kütahyalı: %6.95\n",
      "Webtekno: %4.92\n",
      "Netflix: %87.57\n"
     ]
    }
   ],
   "source": [
    "tweet = \"önerdiğim diziyi izledin mi diyorum bana nau nau diyor\"\n",
    "tweet_vec = vectorizer.transform([tweet])\n",
    "# acunilicali: 0\n",
    "# rok: 1\n",
    "# webtekno: 2\n",
    "# netflix: 3\n",
    "print(\"NB:\", model_NB.predict(tweet_vec))\n",
    "#print(\"DT:\", model_DT.predict(tweet_vec))\n",
    "\n",
    "result = model_NB.predict_proba(tweet_vec)\n",
    "print(\"acun ılıcalı: %{}\\nRasim Ozan Kütahyalı: %{}\\nWebtekno: %{}\\nNetflix: %{}\".format(round(100*result[0][0],2),round(100*result[0][1],2),round(100*result[0][2],2),round(100*result[0][3],2)))\n",
    "#print(\"DT Proba:\", model_DT.predict_proba(tweet_vec))"
   ]
  },
  {
   "cell_type": "code",
   "execution_count": null,
   "id": "86377f48",
   "metadata": {},
   "outputs": [],
   "source": []
  }
 ],
 "metadata": {
  "kernelspec": {
   "display_name": "Python 3 (ipykernel)",
   "language": "python",
   "name": "python3"
  },
  "language_info": {
   "codemirror_mode": {
    "name": "ipython",
    "version": 3
   },
   "file_extension": ".py",
   "mimetype": "text/x-python",
   "name": "python",
   "nbconvert_exporter": "python",
   "pygments_lexer": "ipython3",
   "version": "3.9.7"
  }
 },
 "nbformat": 4,
 "nbformat_minor": 5
}

